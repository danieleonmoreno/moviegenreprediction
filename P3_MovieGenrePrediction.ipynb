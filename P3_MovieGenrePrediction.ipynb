{
 "cells": [
  {
   "cell_type": "markdown",
   "metadata": {
    "colab_type": "text",
    "id": "f5yFjEuV1RSV"
   },
   "source": [
    "# Project 3\n",
    "\n",
    "\n",
    "# Movie Genre Classification"
   ]
  },
  {
   "cell_type": "code",
   "execution_count": 1,
   "metadata": {
    "colab": {},
    "colab_type": "code",
    "id": "3B3N12Au1RSY"
   },
   "outputs": [],
   "source": [
    "# Cargue librerias\n",
    "import pandas as pd\n",
    "import os\n",
    "import numpy as np\n",
    "from sklearn.feature_extraction.text import TfidfVectorizer\n",
    "from sklearn.preprocessing import MultiLabelBinarizer\n",
    "from sklearn.multiclass import OneVsRestClassifier\n",
    "from sklearn.ensemble import RandomForestRegressor, RandomForestClassifier\n",
    "from sklearn.metrics import r2_score, roc_auc_score\n",
    "from sklearn.model_selection import train_test_split"
   ]
  },
  {
   "cell_type": "markdown",
   "metadata": {
    "colab_type": "text",
    "id": "lzAul2EVo7hB"
   },
   "source": [
    "Cargue de datasets"
   ]
  },
  {
   "cell_type": "code",
   "execution_count": 2,
   "metadata": {
    "colab": {},
    "colab_type": "code",
    "id": "hG_j6Am11RSd"
   },
   "outputs": [],
   "source": [
    "dataTraining = pd.read_csv('https://github.com/albahnsen/AdvancedMethodsDataAnalysisClass/raw/master/datasets/dataTraining.zip', encoding='UTF-8', index_col=0)\n",
    "dataTesting = pd.read_csv('https://github.com/albahnsen/AdvancedMethodsDataAnalysisClass/raw/master/datasets/dataTesting.zip', encoding='UTF-8', index_col=0)"
   ]
  },
  {
   "cell_type": "code",
   "execution_count": 4,
   "metadata": {},
   "outputs": [
    {
     "data": {
      "text/html": [
       "<div>\n",
       "<style scoped>\n",
       "    .dataframe tbody tr th:only-of-type {\n",
       "        vertical-align: middle;\n",
       "    }\n",
       "\n",
       "    .dataframe tbody tr th {\n",
       "        vertical-align: top;\n",
       "    }\n",
       "\n",
       "    .dataframe thead th {\n",
       "        text-align: right;\n",
       "    }\n",
       "</style>\n",
       "<table border=\"1\" class=\"dataframe\">\n",
       "  <thead>\n",
       "    <tr style=\"text-align: right;\">\n",
       "      <th></th>\n",
       "      <th>year</th>\n",
       "      <th>title</th>\n",
       "      <th>plot</th>\n",
       "      <th>genres</th>\n",
       "      <th>rating</th>\n",
       "    </tr>\n",
       "  </thead>\n",
       "  <tbody>\n",
       "    <tr>\n",
       "      <th>3107</th>\n",
       "      <td>2003</td>\n",
       "      <td>Most</td>\n",
       "      <td>most is the story of a single father who takes...</td>\n",
       "      <td>['Short', 'Drama']</td>\n",
       "      <td>8.0</td>\n",
       "    </tr>\n",
       "    <tr>\n",
       "      <th>900</th>\n",
       "      <td>2008</td>\n",
       "      <td>How to Be a Serial Killer</td>\n",
       "      <td>a serial killer decides to teach the secrets o...</td>\n",
       "      <td>['Comedy', 'Crime', 'Horror']</td>\n",
       "      <td>5.6</td>\n",
       "    </tr>\n",
       "    <tr>\n",
       "      <th>6724</th>\n",
       "      <td>1941</td>\n",
       "      <td>A Woman's Face</td>\n",
       "      <td>in sweden ,  a female blackmailer with a disfi...</td>\n",
       "      <td>['Drama', 'Film-Noir', 'Thriller']</td>\n",
       "      <td>7.2</td>\n",
       "    </tr>\n",
       "    <tr>\n",
       "      <th>4704</th>\n",
       "      <td>1954</td>\n",
       "      <td>Executive Suite</td>\n",
       "      <td>in a friday afternoon in new york ,  the presi...</td>\n",
       "      <td>['Drama']</td>\n",
       "      <td>7.4</td>\n",
       "    </tr>\n",
       "    <tr>\n",
       "      <th>2582</th>\n",
       "      <td>1990</td>\n",
       "      <td>Narrow Margin</td>\n",
       "      <td>in los angeles ,  the editor of a publishing h...</td>\n",
       "      <td>['Action', 'Crime', 'Thriller']</td>\n",
       "      <td>6.6</td>\n",
       "    </tr>\n",
       "  </tbody>\n",
       "</table>\n",
       "</div>"
      ],
      "text/plain": [
       "      year                      title  \\\n",
       "3107  2003                       Most   \n",
       "900   2008  How to Be a Serial Killer   \n",
       "6724  1941             A Woman's Face   \n",
       "4704  1954            Executive Suite   \n",
       "2582  1990              Narrow Margin   \n",
       "\n",
       "                                                   plot  \\\n",
       "3107  most is the story of a single father who takes...   \n",
       "900   a serial killer decides to teach the secrets o...   \n",
       "6724  in sweden ,  a female blackmailer with a disfi...   \n",
       "4704  in a friday afternoon in new york ,  the presi...   \n",
       "2582  in los angeles ,  the editor of a publishing h...   \n",
       "\n",
       "                                  genres  rating  \n",
       "3107                  ['Short', 'Drama']     8.0  \n",
       "900        ['Comedy', 'Crime', 'Horror']     5.6  \n",
       "6724  ['Drama', 'Film-Noir', 'Thriller']     7.2  \n",
       "4704                           ['Drama']     7.4  \n",
       "2582     ['Action', 'Crime', 'Thriller']     6.6  "
      ]
     },
     "execution_count": 4,
     "metadata": {},
     "output_type": "execute_result"
    }
   ],
   "source": [
    "# Revisión de datos\n",
    "dataTraining.head()"
   ]
  },
  {
   "cell_type": "markdown",
   "metadata": {
    "colab_type": "text",
    "id": "77zRtMv11RSw"
   },
   "source": [
    "### Create count vectorizer\n",
    "\n",
    "Transformamos los textos con el uso de TfidfVectorizer"
   ]
  },
  {
   "cell_type": "code",
   "execution_count": 5,
   "metadata": {
    "colab": {
     "base_uri": "https://localhost:8080/",
     "height": 51
    },
    "colab_type": "code",
    "id": "c221LAdO1RSx",
    "outputId": "4d2afa94-7d40-4a9c-c5bd-642e3e824bd9"
   },
   "outputs": [
    {
     "name": "stderr",
     "output_type": "stream",
     "text": [
      "[nltk_data] Downloading package wordnet to\n",
      "[nltk_data]     C:\\Users\\leon-\\AppData\\Roaming\\nltk_data...\n",
      "[nltk_data]   Package wordnet is already up-to-date!\n"
     ]
    }
   ],
   "source": [
    "import nltk\n",
    "nltk.download('wordnet')\n",
    "from nltk.stem import WordNetLemmatizer\n",
    "wordnet_lemmatizer = WordNetLemmatizer()\n",
    "\n",
    "def split_into_lemmas(text):\n",
    "    text = text.lower()\n",
    "    words = text.split()\n",
    "    return [wordnet_lemmatizer.lemmatize(word) for word in words]\n",
    "\n",
    "vect = TfidfVectorizer(strip_accents='unicode', token_pattern=r'\\w{2,}',sublinear_tf=True, ngram_range=(4, 8),max_df=0.5,analyzer=split_into_lemmas,stop_words='english')\n",
    "X_dtm = vect.fit_transform(dataTraining['plot'])"
   ]
  },
  {
   "cell_type": "markdown",
   "metadata": {
    "colab_type": "text",
    "id": "FoBmjrbh1RS8"
   },
   "source": [
    "### Create y"
   ]
  },
  {
   "cell_type": "code",
   "execution_count": 6,
   "metadata": {
    "colab": {},
    "colab_type": "code",
    "id": "VKykGwlk1RS9"
   },
   "outputs": [],
   "source": [
    "dataTraining['genres'] = dataTraining['genres'].map(lambda x: eval(x))\n",
    "\n",
    "le = MultiLabelBinarizer()\n",
    "y_genres = le.fit_transform(dataTraining['genres'])"
   ]
  },
  {
   "cell_type": "markdown",
   "metadata": {
    "colab_type": "text",
    "id": "aEB7skggpbiI"
   },
   "source": [
    "Partimos en train y test la base de datos"
   ]
  },
  {
   "cell_type": "code",
   "execution_count": 7,
   "metadata": {
    "colab": {},
    "colab_type": "code",
    "id": "Zdgr5jmY1RTE"
   },
   "outputs": [],
   "source": [
    "X_train, X_test, y_train_genres, y_test_genres = train_test_split(X_dtm, y_genres, test_size=0.33, random_state=42)"
   ]
  },
  {
   "cell_type": "markdown",
   "metadata": {
    "colab_type": "text",
    "id": "8fDNvu7YphMA"
   },
   "source": [
    "Cargue de librerias"
   ]
  },
  {
   "cell_type": "code",
   "execution_count": 8,
   "metadata": {
    "colab": {
     "base_uri": "https://localhost:8080/",
     "height": 513
    },
    "colab_type": "code",
    "id": "kfDQYVvVGchz",
    "outputId": "81f79006-1cd8-4ea8-fcff-6848dd595dd9"
   },
   "outputs": [
    {
     "name": "stdout",
     "output_type": "stream",
     "text": [
      "Requirement already satisfied: livelossplot in c:\\users\\leon-\\anaconda3\\lib\\site-packages (0.5.2)\n",
      "Requirement already satisfied: ipython in c:\\users\\leon-\\anaconda3\\lib\\site-packages (from livelossplot) (7.16.1)\n",
      "Requirement already satisfied: bokeh; python_version >= \"3.6\" in c:\\users\\leon-\\anaconda3\\lib\\site-packages (from livelossplot) (2.2.1)\n",
      "Requirement already satisfied: matplotlib; python_version >= \"3.6\" in c:\\users\\leon-\\anaconda3\\lib\\site-packages (from livelossplot) (3.2.2)\n",
      "Requirement already satisfied: pickleshare in c:\\users\\leon-\\anaconda3\\lib\\site-packages (from ipython->livelossplot) (0.7.5)\n",
      "Requirement already satisfied: colorama; sys_platform == \"win32\" in c:\\users\\leon-\\anaconda3\\lib\\site-packages (from ipython->livelossplot) (0.4.3)\n",
      "Requirement already satisfied: decorator in c:\\users\\leon-\\anaconda3\\lib\\site-packages (from ipython->livelossplot) (4.4.2)\n",
      "Requirement already satisfied: backcall in c:\\users\\leon-\\anaconda3\\lib\\site-packages (from ipython->livelossplot) (0.2.0)\n",
      "Requirement already satisfied: pygments in c:\\users\\leon-\\anaconda3\\lib\\site-packages (from ipython->livelossplot) (2.6.1)\n",
      "Requirement already satisfied: jedi>=0.10 in c:\\users\\leon-\\anaconda3\\lib\\site-packages (from ipython->livelossplot) (0.17.1)\n",
      "Requirement already satisfied: setuptools>=18.5 in c:\\users\\leon-\\anaconda3\\lib\\site-packages (from ipython->livelossplot) (50.3.0.post20201006)\n",
      "Requirement already satisfied: traitlets>=4.2 in c:\\users\\leon-\\anaconda3\\lib\\site-packages (from ipython->livelossplot) (4.3.3)\n",
      "Requirement already satisfied: prompt-toolkit!=3.0.0,!=3.0.1,<3.1.0,>=2.0.0 in c:\\users\\leon-\\anaconda3\\lib\\site-packages (from ipython->livelossplot) (3.0.5)\n",
      "Requirement already satisfied: Jinja2>=2.7 in c:\\users\\leon-\\anaconda3\\lib\\site-packages (from bokeh; python_version >= \"3.6\"->livelossplot) (2.11.2)\n",
      "Requirement already satisfied: PyYAML>=3.10 in c:\\users\\leon-\\anaconda3\\lib\\site-packages (from bokeh; python_version >= \"3.6\"->livelossplot) (5.3.1)\n",
      "Requirement already satisfied: pillow>=7.1.0 in c:\\users\\leon-\\anaconda3\\lib\\site-packages (from bokeh; python_version >= \"3.6\"->livelossplot) (7.2.0)\n",
      "Requirement already satisfied: tornado>=5.1 in c:\\users\\leon-\\anaconda3\\lib\\site-packages (from bokeh; python_version >= \"3.6\"->livelossplot) (6.0.4)\n",
      "Requirement already satisfied: python-dateutil>=2.1 in c:\\users\\leon-\\anaconda3\\lib\\site-packages (from bokeh; python_version >= \"3.6\"->livelossplot) (2.8.1)\n",
      "Requirement already satisfied: typing-extensions>=3.7.4 in c:\\users\\leon-\\anaconda3\\lib\\site-packages (from bokeh; python_version >= \"3.6\"->livelossplot) (3.7.4.3)\n",
      "Requirement already satisfied: packaging>=16.8 in c:\\users\\leon-\\anaconda3\\lib\\site-packages (from bokeh; python_version >= \"3.6\"->livelossplot) (20.4)\n",
      "Requirement already satisfied: numpy>=1.11.3 in c:\\users\\leon-\\anaconda3\\lib\\site-packages (from bokeh; python_version >= \"3.6\"->livelossplot) (1.19.5)\n",
      "Requirement already satisfied: cycler>=0.10 in c:\\users\\leon-\\anaconda3\\lib\\site-packages (from matplotlib; python_version >= \"3.6\"->livelossplot) (0.10.0)\n",
      "Requirement already satisfied: pyparsing!=2.0.4,!=2.1.2,!=2.1.6,>=2.0.1 in c:\\users\\leon-\\anaconda3\\lib\\site-packages (from matplotlib; python_version >= \"3.6\"->livelossplot) (2.4.7)\n",
      "Requirement already satisfied: kiwisolver>=1.0.1 in c:\\users\\leon-\\anaconda3\\lib\\site-packages (from matplotlib; python_version >= \"3.6\"->livelossplot) (1.2.0)\n",
      "Requirement already satisfied: parso<0.8.0,>=0.7.0 in c:\\users\\leon-\\anaconda3\\lib\\site-packages (from jedi>=0.10->ipython->livelossplot) (0.7.0)\n",
      "Requirement already satisfied: six in c:\\users\\leon-\\anaconda3\\lib\\site-packages (from traitlets>=4.2->ipython->livelossplot) (1.15.0)\n",
      "Requirement already satisfied: ipython-genutils in c:\\users\\leon-\\anaconda3\\lib\\site-packages (from traitlets>=4.2->ipython->livelossplot) (0.2.0)\n",
      "Requirement already satisfied: wcwidth in c:\\users\\leon-\\anaconda3\\lib\\site-packages (from prompt-toolkit!=3.0.0,!=3.0.1,<3.1.0,>=2.0.0->ipython->livelossplot) (0.2.5)\n",
      "Requirement already satisfied: MarkupSafe>=0.23 in c:\\users\\leon-\\anaconda3\\lib\\site-packages (from Jinja2>=2.7->bokeh; python_version >= \"3.6\"->livelossplot) (1.1.1)\n"
     ]
    }
   ],
   "source": [
    "! pip install livelossplot\n",
    "from tensorflow import keras \n",
    "import tensorflow.keras.layers as layers\n",
    "from tensorflow.keras import backend as K\n",
    "from tensorflow.keras.models import Sequential\n",
    "from tensorflow.keras.layers import LSTM\n",
    "from tensorflow.keras.layers import Dense, Dropout, Activation\n",
    "from tensorflow.keras.layers import Embedding\n",
    "from tensorflow.keras.preprocessing import sequence\n",
    "from livelossplot import PlotLossesKeras\n",
    "from tensorflow.keras.callbacks import EarlyStopping, ModelCheckpoint\n",
    "%matplotlib inline"
   ]
  },
  {
   "cell_type": "markdown",
   "metadata": {
    "colab_type": "text",
    "id": "bC5mtm7Tpn_A"
   },
   "source": [
    "Entrenamiento del modelo - red neuronal"
   ]
  },
  {
   "cell_type": "code",
   "execution_count": 9,
   "metadata": {
    "colab": {
     "base_uri": "https://localhost:8080/",
     "height": 272
    },
    "colab_type": "code",
    "id": "h16LuE_wGfb_",
    "outputId": "6dc4a821-81ff-49fe-b561-33e75de91b9f"
   },
   "outputs": [
    {
     "name": "stdout",
     "output_type": "stream",
     "text": [
      "Building model...\n",
      "Model: \"sequential\"\n",
      "_________________________________________________________________\n",
      "Layer (type)                 Output Shape              Param #   \n",
      "=================================================================\n",
      "dense (Dense)                (None, 512)               17721344  \n",
      "_________________________________________________________________\n",
      "dense_1 (Dense)              (None, 24)                12312     \n",
      "_________________________________________________________________\n",
      "activation (Activation)      (None, 24)                0         \n",
      "=================================================================\n",
      "Total params: 17,733,656\n",
      "Trainable params: 17,733,656\n",
      "Non-trainable params: 0\n",
      "_________________________________________________________________\n"
     ]
    }
   ],
   "source": [
    "dims = X_train.shape[1]\n",
    "output_var = y_train_genres.shape[1]\n",
    "K.clear_session()\n",
    "print(\"Building model...\")\n",
    "model = Sequential()\n",
    "model.add(Dense(512, input_shape=(dims,),activation='exponential'))\n",
    "model.add(Dense(output_var))\n",
    "model.add(Activation('sigmoid'))\n",
    "model.compile(optimizer='rmsprop', loss='binary_crossentropy', metrics=['binary_accuracy'])\n",
    "model.summary()"
   ]
  },
  {
   "cell_type": "code",
   "execution_count": 10,
   "metadata": {
    "colab": {
     "base_uri": "https://localhost:8080/",
     "height": 445
    },
    "colab_type": "code",
    "id": "1oyeXK3zGhwQ",
    "outputId": "4eb032e1-0fcf-4d29-f222-142b8f82c90e"
   },
   "outputs": [
    {
     "name": "stdout",
     "output_type": "stream",
     "text": [
      "WARNING:tensorflow:Falling back from v2 loop because of error: Failed to find data adapter that can handle input: <class 'scipy.sparse.csr.csr_matrix'>, <class 'NoneType'>\n",
      "Train on 5289 samples, validate on 2606 samples\n",
      "Epoch 1/25\n",
      "5289/5289 [==============================] - 10s 2ms/sample - loss: 0.4928 - binary_accuracy: 0.7722 - val_loss: 0.3041 - val_binary_accuracy: 0.8904\n",
      "Epoch 2/25\n",
      "5289/5289 [==============================] - 10s 2ms/sample - loss: 0.2863 - binary_accuracy: 0.8991 - val_loss: 0.2902 - val_binary_accuracy: 0.8850\n",
      "Epoch 3/25\n",
      "5289/5289 [==============================] - 10s 2ms/sample - loss: 0.2735 - binary_accuracy: 0.8964 - val_loss: 0.2854 - val_binary_accuracy: 0.8917\n",
      "Epoch 4/25\n",
      "5289/5289 [==============================] - 11s 2ms/sample - loss: 0.2648 - binary_accuracy: 0.8971 - val_loss: 0.2824 - val_binary_accuracy: 0.8935\n",
      "Epoch 5/25\n",
      "5289/5289 [==============================] - 11s 2ms/sample - loss: 0.2577 - binary_accuracy: 0.8977 - val_loss: 0.2794 - val_binary_accuracy: 0.8882\n",
      "Epoch 6/25\n",
      "5289/5289 [==============================] - 11s 2ms/sample - loss: 0.2499 - binary_accuracy: 0.9042 - val_loss: 0.2772 - val_binary_accuracy: 0.8953\n",
      "Epoch 7/25\n",
      "5289/5289 [==============================] - 11s 2ms/sample - loss: 0.2413 - binary_accuracy: 0.9087 - val_loss: 0.2735 - val_binary_accuracy: 0.8918\n",
      "Epoch 8/25\n",
      "5289/5289 [==============================] - 11s 2ms/sample - loss: 0.2341 - binary_accuracy: 0.9068 - val_loss: 0.2687 - val_binary_accuracy: 0.8930\n",
      "Epoch 9/25\n",
      "5289/5289 [==============================] - 11s 2ms/sample - loss: 0.2263 - binary_accuracy: 0.9116 - val_loss: 0.2677 - val_binary_accuracy: 0.8992\n",
      "Epoch 10/25\n",
      "5289/5289 [==============================] - 11s 2ms/sample - loss: 0.2200 - binary_accuracy: 0.9117 - val_loss: 0.2609 - val_binary_accuracy: 0.9006\n",
      "Epoch 11/25\n",
      "5289/5289 [==============================] - 11s 2ms/sample - loss: 0.2095 - binary_accuracy: 0.9209 - val_loss: 0.2598 - val_binary_accuracy: 0.9015\n",
      "Epoch 12/25\n",
      "5289/5289 [==============================] - 11s 2ms/sample - loss: 0.2024 - binary_accuracy: 0.9226 - val_loss: 0.2637 - val_binary_accuracy: 0.8913\n",
      "Epoch 13/25\n",
      "5289/5289 [==============================] - 11s 2ms/sample - loss: 0.1965 - binary_accuracy: 0.9230 - val_loss: 0.2534 - val_binary_accuracy: 0.9017\n",
      "Epoch 14/25\n",
      "5289/5289 [==============================] - 11s 2ms/sample - loss: 0.1864 - binary_accuracy: 0.9286 - val_loss: 0.2492 - val_binary_accuracy: 0.9014\n",
      "Epoch 15/25\n",
      "5289/5289 [==============================] - 11s 2ms/sample - loss: 0.1785 - binary_accuracy: 0.9329 - val_loss: 0.2490 - val_binary_accuracy: 0.8994\n",
      "Epoch 16/25\n",
      "5289/5289 [==============================] - 11s 2ms/sample - loss: 0.1720 - binary_accuracy: 0.9343 - val_loss: 0.2445 - val_binary_accuracy: 0.9034\n",
      "Epoch 17/25\n",
      "5289/5289 [==============================] - 11s 2ms/sample - loss: 0.1644 - binary_accuracy: 0.9393 - val_loss: 0.2403 - val_binary_accuracy: 0.9047\n",
      "Epoch 18/25\n",
      "5289/5289 [==============================] - 11s 2ms/sample - loss: 0.1564 - binary_accuracy: 0.9437 - val_loss: 0.2384 - val_binary_accuracy: 0.9029\n",
      "Epoch 19/25\n",
      "5289/5289 [==============================] - 11s 2ms/sample - loss: 0.1486 - binary_accuracy: 0.9462 - val_loss: 0.2343 - val_binary_accuracy: 0.9042\n",
      "Epoch 20/25\n",
      "5289/5289 [==============================] - 11s 2ms/sample - loss: 0.1427 - binary_accuracy: 0.9499 - val_loss: 0.2320 - val_binary_accuracy: 0.9049\n",
      "Epoch 21/25\n",
      "5289/5289 [==============================] - 11s 2ms/sample - loss: 0.1351 - binary_accuracy: 0.9535 - val_loss: 0.2311 - val_binary_accuracy: 0.9055\n",
      "Epoch 22/25\n",
      "5289/5289 [==============================] - 10s 2ms/sample - loss: 0.1288 - binary_accuracy: 0.9576 - val_loss: 0.2271 - val_binary_accuracy: 0.9076\n",
      "Epoch 23/25\n",
      "5289/5289 [==============================] - 10s 2ms/sample - loss: 0.1222 - binary_accuracy: 0.9601 - val_loss: 0.2272 - val_binary_accuracy: 0.9073\n",
      "Epoch 24/25\n",
      "5289/5289 [==============================] - 10s 2ms/sample - loss: 0.1162 - binary_accuracy: 0.9628 - val_loss: 0.2237 - val_binary_accuracy: 0.9090\n",
      "Epoch 25/25\n",
      "5289/5289 [==============================] - 10s 2ms/sample - loss: 0.1099 - binary_accuracy: 0.9663 - val_loss: 0.2196 - val_binary_accuracy: 0.9108\n"
     ]
    },
    {
     "data": {
      "text/plain": [
       "<tensorflow.python.keras.callbacks.History at 0x209fdea9898>"
      ]
     },
     "execution_count": 10,
     "metadata": {},
     "output_type": "execute_result"
    }
   ],
   "source": [
    "model.fit(X_train, y_train_genres, validation_data=[X_test, y_test_genres], \n",
    "          batch_size=1000, epochs=25, verbose=1,\n",
    "          )"
   ]
  },
  {
   "cell_type": "markdown",
   "metadata": {
    "colab_type": "text",
    "id": "sOEhiCaz1RTT"
   },
   "source": [
    "### Predict the testing dataset"
   ]
  },
  {
   "cell_type": "code",
   "execution_count": 11,
   "metadata": {},
   "outputs": [
    {
     "name": "stdout",
     "output_type": "stream",
     "text": [
      "WARNING:tensorflow:Falling back from v2 loop because of error: Failed to find data adapter that can handle input: <class 'scipy.sparse.csr.csr_matrix'>, <class 'NoneType'>\n",
      "{'p_Action': 0.19274798, 'p_Adventure': 0.19274798, 'p_Comedy': 0.52252233, 'p_Crime': 0.07871005, 'p_Documentary': 0.015979648, 'p_Drama': 0.36437023, 'p_Family': 0.12927255, 'p_Horror': 0.08794251, 'p_Romance': 0.3356712, 'p_Sci-Fi': 0.14014903}\n"
     ]
    }
   ],
   "source": [
    "test = vect.transform([\"On the Italian Riviera, an unlikely but strong friendship grows between a human being and a sea monster disguised as a human.\"])\n",
    "\n",
    "y_pred = model.predict_proba(test)\n",
    "\n",
    "d = {'p_Action': y_pred[0][1], 'p_Adventure': y_pred[0][1], 'p_Comedy': y_pred[0][4], \n",
    "         'p_Crime': y_pred[0][5], 'p_Documentary': y_pred[0][6], 'p_Drama': y_pred[0][7], 'p_Family': y_pred[0][8],\n",
    "         'p_Horror': y_pred[0][12], 'p_Romance': y_pred[0][17], 'p_Sci-Fi':y_pred[0][18]}\n",
    "\n",
    "print(d)"
   ]
  },
  {
   "cell_type": "code",
   "execution_count": null,
   "metadata": {},
   "outputs": [],
   "source": []
  }
 ],
 "metadata": {
  "accelerator": "GPU",
  "colab": {
   "name": "P3-MovieGenrePrediction.ipynb",
   "provenance": []
  },
  "kernelspec": {
   "display_name": "Python 3",
   "language": "python",
   "name": "python3"
  },
  "language_info": {
   "codemirror_mode": {
    "name": "ipython",
    "version": 3
   },
   "file_extension": ".py",
   "mimetype": "text/x-python",
   "name": "python",
   "nbconvert_exporter": "python",
   "pygments_lexer": "ipython3",
   "version": "3.6.10"
  }
 },
 "nbformat": 4,
 "nbformat_minor": 1
}
